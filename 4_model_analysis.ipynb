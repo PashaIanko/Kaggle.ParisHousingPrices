{
  "nbformat": 4,
  "nbformat_minor": 0,
  "metadata": {
    "colab": {
      "provenance": [],
      "collapsed_sections": [
        "ZSNQKnR3G852"
      ],
      "authorship_tag": "ABX9TyPC3w06yIuv9Ne4SEg0ln+P",
      "include_colab_link": true
    },
    "kernelspec": {
      "name": "python3",
      "display_name": "Python 3"
    },
    "language_info": {
      "name": "python"
    }
  },
  "cells": [
    {
      "cell_type": "markdown",
      "metadata": {
        "id": "view-in-github",
        "colab_type": "text"
      },
      "source": [
        "<a href=\"https://colab.research.google.com/github/PashaIanko/Kaggle.ParisHousingPrices/blob/target_preprocessing/4_model_analysis.ipynb\" target=\"_parent\"><img src=\"https://colab.research.google.com/assets/colab-badge.svg\" alt=\"Open In Colab\"/></a>"
      ]
    },
    {
      "cell_type": "markdown",
      "source": [
        "# Setup"
      ],
      "metadata": {
        "id": "TRFIn9XwGOOd"
      }
    },
    {
      "cell_type": "code",
      "execution_count": 1,
      "metadata": {
        "id": "Lodv4yMiGL1u"
      },
      "outputs": [],
      "source": [
        "from google.colab import drive\n",
        "# Datasets\n",
        "import pandas as pd\n",
        "# Numerics\n",
        "import numpy as np\n",
        "# Plotting\n",
        "import matplotlib.pyplot as plt\n",
        "import seaborn as sns\n",
        "# Preprocessing & pipelines\n",
        "from sklearn.pipeline import make_pipeline\n",
        "from sklearn.compose import ColumnTransformer\n",
        "from sklearn.impute import SimpleImputer\n",
        "from sklearn.preprocessing import StandardScaler\n",
        "# Data management\n",
        "from sklearn.model_selection import train_test_split\n",
        "# Other\n",
        "import os\n",
        "\n",
        "pd.set_option('display.max_columns', None)"
      ]
    },
    {
      "cell_type": "code",
      "source": [
        "%%capture\n",
        "GIT_DOWNLOAD_PATH = 'https://raw.githubusercontent.com/PashaIanko/Sklearn-Utils/main/'\n",
        "FILES_LIST = [\n",
        "    'path_manager.py',\n",
        "    'sklearn_transformers.py',\n",
        "    'sklearn_utils.py',\n",
        "    'model.py'\n",
        "]\n",
        "GDRIVE_PATH = '/content/gdrive/MyDrive/'\n",
        "PREPROC_TRIAL = 2\n",
        "MODELS_TRIAL = 1\n",
        "COMPETITION_PATH = GDRIVE_PATH + 'ML/Competitions/10.ParisHousePrices/'\n",
        "# --------------------------------------------------\n",
        "try:\n",
        "    from nbpep8.nbpep8 import pep8\n",
        "except ModuleNotFoundError:\n",
        "    !pip install pycodestyle\n",
        "    !pip install --index-url https://test.pypi.org/simple/ nbpep8\n",
        "from nbpep8.nbpep8 import pep8\n",
        "# ---------------------------------------\n",
        "def download_files(url_dict):\n",
        "    for file, url in url_dict.items():\n",
        "        print(f'Downloading {file}')\n",
        "        !wget -O {file} {url} {file}\n",
        "url_dict = {file: GIT_DOWNLOAD_PATH + file for file in FILES_LIST}\n",
        "print('a')\n",
        "download_files(url_dict)\n",
        "# ---------------------------------------\n",
        "import importlib\n",
        "import path_manager\n",
        "import sklearn_utils\n",
        "import sklearn_transformers\n",
        "import model\n",
        "def reload_all(modules_list_):\n",
        "    for module in modules_list_:\n",
        "        importlib.reload(module)\n",
        "MODULES_LIST = [\n",
        "    path_manager,\n",
        "    sklearn_utils,\n",
        "    sklearn_transformers,\n",
        "    model\n",
        "]\n",
        "reload_all(MODULES_LIST)\n",
        "# ---------------------------------------\n",
        "from path_manager import PathManager\n",
        "from model import Model\n",
        "from sklearn_utils import nan_statistics\n",
        "from sklearn_utils import boxplot_regression\n",
        "from sklearn_utils import get_correlated_attributes\n",
        "from sklearn_utils import visualize_datasets_distributions\n",
        "from sklearn_transformers import ColumnDropper\n",
        "from sklearn_transformers import LogTransformer\n",
        "# ---------------------------------------\n",
        "from google.colab import drive\n",
        "drive.mount('/content/gdrive')\n",
        "manager = PathManager(\n",
        "    competition_path=COMPETITION_PATH,\n",
        "    preprocessing_trial=PREPROC_TRIAL,\n",
        "    models_trial=MODELS_TRIAL\n",
        ")\n",
        "manager.setup_paths()"
      ],
      "metadata": {
        "id": "JmMxJKosGVmd"
      },
      "execution_count": 3,
      "outputs": []
    },
    {
      "cell_type": "markdown",
      "source": [
        "# Functions"
      ],
      "metadata": {
        "id": "EdeZkOjtIOFJ"
      }
    },
    {
      "cell_type": "code",
      "source": [
        "from sklearn.metrics import mean_squared_error\n",
        "\n",
        "def report_model(model, X, Y):\n",
        "    preds = model.predict(X)\n",
        "    print(\n",
        "        mean_squared_error(\n",
        "            y_pred=preds,\n",
        "            y_true=Y,\n",
        "            squared=False\n",
        "        )\n",
        "    )"
      ],
      "metadata": {
        "id": "F5jJeEc-IRLi"
      },
      "execution_count": 15,
      "outputs": []
    },
    {
      "cell_type": "markdown",
      "source": [
        "# Download the data"
      ],
      "metadata": {
        "id": "ZSNQKnR3G852"
      }
    },
    {
      "cell_type": "code",
      "source": [
        "os.listdir(manager.data_trial_path)"
      ],
      "metadata": {
        "colab": {
          "base_uri": "https://localhost:8080/"
        },
        "id": "C-b3QT4tHBRz",
        "outputId": "3ae5ee2b-cfd9-43fc-a1ac-0b89abfa386a"
      },
      "execution_count": 6,
      "outputs": [
        {
          "output_type": "execute_result",
          "data": {
            "text/plain": [
              "['train_processed.csv',\n",
              " 'val_processed.csv',\n",
              " 'test_processed.csv',\n",
              " 'submission_processed.csv',\n",
              " 'submission_elastic_20_10_23.csv',\n",
              " 'rfr_20_10_23.csv']"
            ]
          },
          "metadata": {},
          "execution_count": 6
        }
      ]
    },
    {
      "cell_type": "code",
      "source": [
        "df_train = pd.read_csv(f'{manager.data_trial_path}/train_processed.csv', index_col=0)\n",
        "df_val = pd.read_csv(f'{manager.data_trial_path}/val_processed.csv', index_col=0)\n",
        "df_test = pd.read_csv(f'{manager.data_trial_path}/test_processed.csv', index_col=0)\n",
        "df_submission = pd.read_csv(f'{manager.data_trial_path}/submission_processed.csv', index_col=0)"
      ],
      "metadata": {
        "id": "hDZitD8KG-I5"
      },
      "execution_count": 10,
      "outputs": []
    },
    {
      "cell_type": "code",
      "source": [
        "X_train, Y_train = df_train.iloc[:, :-1], df_train.iloc[:, -1]\n",
        "X_val, Y_val = df_val.iloc[:, :-1], df_val.iloc[:, -1]\n",
        "X_test, Y_test = df_test.iloc[:, :-1], df_test.iloc[:, -1]\n",
        "X_submission = df_submission.iloc[:, :]\n",
        "\n",
        "Xs = [\n",
        "    X_train,\n",
        "    X_val,\n",
        "    X_test,\n",
        "    X_submission\n",
        "]\n",
        "\n",
        "Ys = [\n",
        "    Y_train,\n",
        "    Y_val,\n",
        "    Y_test,\n",
        "    None\n",
        "]"
      ],
      "metadata": {
        "id": "256E5OPOHcNn"
      },
      "execution_count": 11,
      "outputs": []
    },
    {
      "cell_type": "markdown",
      "source": [
        "# Download the models"
      ],
      "metadata": {
        "id": "XF78OJ4oGktN"
      }
    },
    {
      "cell_type": "code",
      "source": [
        "models = manager.load_models(\n",
        "    ['RF', 'ElasticNet']\n",
        ")"
      ],
      "metadata": {
        "id": "V8nDP8L2GkE5"
      },
      "execution_count": 5,
      "outputs": []
    },
    {
      "cell_type": "code",
      "source": [
        "models"
      ],
      "metadata": {
        "colab": {
          "base_uri": "https://localhost:8080/"
        },
        "id": "2pDnVlaIHza9",
        "outputId": "97c16801-5cd6-4254-cd30-9b0c7faa0397"
      },
      "execution_count": 12,
      "outputs": [
        {
          "output_type": "execute_result",
          "data": {
            "text/plain": [
              "{'RF': RandomForestRegressor(n_estimators=200),\n",
              " 'ElasticNet': ElasticNet(alpha=0.5, l1_ratio=1.0, random_state=255, warm_start=True)}"
            ]
          },
          "metadata": {},
          "execution_count": 12
        }
      ]
    },
    {
      "cell_type": "markdown",
      "source": [
        "# Visualize models' predictions"
      ],
      "metadata": {
        "id": "Hc8E9ljBITvD"
      }
    },
    {
      "cell_type": "code",
      "source": [
        "report_model(models['RF'], X_train, Y_train)\n",
        "report_model(models['RF'], X_val, Y_val)"
      ],
      "metadata": {
        "colab": {
          "base_uri": "https://localhost:8080/"
        },
        "id": "AbvPuZekHz55",
        "outputId": "dcc015b8-e471-4cbd-ae1c-8a4b6704a05d"
      },
      "execution_count": 16,
      "outputs": [
        {
          "output_type": "stream",
          "name": "stdout",
          "text": [
            "3648.6598115769893\n",
            "9998.503683088782\n"
          ]
        }
      ]
    },
    {
      "cell_type": "code",
      "source": [
        "report_model(models['ElasticNet'], X_train, Y_train)\n",
        "report_model(models['ElasticNet'], X_val, Y_val)"
      ],
      "metadata": {
        "colab": {
          "base_uri": "https://localhost:8080/"
        },
        "id": "5YZ7eo-KIWrN",
        "outputId": "94d841f3-a5f6-408e-af3e-9b0dfdd2a048"
      },
      "execution_count": 17,
      "outputs": [
        {
          "output_type": "stream",
          "name": "stdout",
          "text": [
            "9400.092574169268\n",
            "10617.980993893025\n"
          ]
        }
      ]
    },
    {
      "cell_type": "code",
      "source": [],
      "metadata": {
        "id": "a-o09eRwIsfH"
      },
      "execution_count": null,
      "outputs": []
    },
    {
      "cell_type": "code",
      "source": [
        "def visualize_predictions(model, X, Y):\n",
        "    fig, ax = plt.subplots()\n",
        "    predictions=model.predict(X)\n",
        "    ax.scatter(x=predictions, y=Y)\n",
        "    ax.set_xlabel('Predicted')\n",
        "    ax.set_ylabel('Ground truth')\n",
        "\n",
        "    max_val = max(np.max(predictions), np.max(Y))\n",
        "    min_val = min(np.min(predictions), np.min(Y))\n",
        "\n",
        "    ax.plot(np.linspace(min_val, max_val, 50), np.linspace(min_val, max_val, 50), color='red', label='x==y')\n",
        "    ax.grid()\n",
        "    ax.legend()\n",
        "\n",
        "visualize_predictions(\n",
        "    models['RF'],\n",
        "    X_val,\n",
        "    Y_val,\n",
        ")"
      ],
      "metadata": {
        "colab": {
          "base_uri": "https://localhost:8080/",
          "height": 465
        },
        "id": "tF6rnyNgIfEC",
        "outputId": "feddc433-c9a2-4635-839a-c2dc6e8b9ec6"
      },
      "execution_count": 28,
      "outputs": [
        {
          "output_type": "display_data",
          "data": {
            "text/plain": [
              "<Figure size 640x480 with 1 Axes>"
            ],
            "image/png": "[encoded data removed]"
          },
          "metadata": {}
        }
      ]
    },
    {
      "cell_type": "code",
      "source": [
        "visualize_predictions(\n",
        "    models['ElasticNet'],\n",
        "    X_train[:100],\n",
        "    Y_train[:100],\n",
        ")"
      ],
      "metadata": {
        "colab": {
          "base_uri": "https://localhost:8080/",
          "height": 465
        },
        "id": "3on_6w3CI8up",
        "outputId": "9ca2d5b1-7cd2-43ae-d174-8ac73d2e09a3"
      },
      "execution_count": 29,
      "outputs": [
        {
          "output_type": "display_data",
          "data": {
            "text/plain": [
              "<Figure size 640x480 with 1 Axes>"
            ],
            "image/png": "[encoded data removed]"
          },
          "metadata": {}
        }
      ]
    }
  ]
}